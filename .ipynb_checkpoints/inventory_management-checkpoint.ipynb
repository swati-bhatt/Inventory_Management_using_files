{
 "cells": [
  {
   "cell_type": "code",
   "execution_count": 145,
   "id": "e8d36505-ae02-440b-8df6-c4a416925d4b",
   "metadata": {},
   "outputs": [],
   "source": [
    "fd=open(\"inventory.txt\", 'r')\n",
    "fd.close()"
   ]
  },
  {
   "cell_type": "markdown",
   "id": "22742467-5f5b-4c56-b607-feb0606c0d50",
   "metadata": {},
   "source": [
    "## Products discription \n",
    "1.product_id \n",
    "\n",
    "2.product_name \n",
    "\n",
    "3.product_price \n",
    "\n",
    "4.product_quantity "
   ]
  },
  {
   "cell_type": "code",
   "execution_count": 5,
   "id": "fe428a35-5150-4288-9fa3-53f0275510e4",
   "metadata": {},
   "outputs": [],
   "source": [
    "fd= open(\"inventory.txt\", 'r')\n",
    "txt=fd.read()\n",
    "fd.close()"
   ]
  },
  {
   "cell_type": "code",
   "execution_count": 9,
   "id": "611a16e6-3556-488c-9a52-2737b848809f",
   "metadata": {},
   "outputs": [
    {
     "data": {
      "text/plain": [
       "'1,dairy milk,20,100\\n2,milky bar,10,50\\n3,5 star,15,30\\n4,kit kat,20,50'"
      ]
     },
     "execution_count": 9,
     "metadata": {},
     "output_type": "execute_result"
    }
   ],
   "source": [
    "txt"
   ]
  },
  {
   "cell_type": "code",
   "execution_count": 7,
   "id": "084f624e-35f5-4e51-9182-46c1951f6f30",
   "metadata": {},
   "outputs": [
    {
     "name": "stdout",
     "output_type": "stream",
     "text": [
      "1,dairy milk,20,100\n",
      "2,milky bar,10,50\n",
      "3,5 star,15,30\n",
      "4,kit kat,20,50\n"
     ]
    }
   ],
   "source": [
    "print(txt)"
   ]
  },
  {
   "cell_type": "code",
   "execution_count": 13,
   "id": "dbd7db73-08eb-490a-84d5-7720064f0cde",
   "metadata": {},
   "outputs": [
    {
     "data": {
      "text/plain": [
       "['1,dairy milk,20,100',\n",
       " '2,milky bar,10,50',\n",
       " '3,5 star,15,30',\n",
       " '4,kit kat,20,50']"
      ]
     },
     "execution_count": 13,
     "metadata": {},
     "output_type": "execute_result"
    }
   ],
   "source": [
    "txt.split('\\n')"
   ]
  },
  {
   "cell_type": "markdown",
   "id": "726ad1e5-8477-49f9-806b-ebf711da7352",
   "metadata": {},
   "source": [
    "## opening and reading file"
   ]
  },
  {
   "cell_type": "code",
   "execution_count": 11,
   "id": "fa03d51b-cb90-42bf-ba2a-fadb5ecf1760",
   "metadata": {},
   "outputs": [
    {
     "name": "stdout",
     "output_type": "stream",
     "text": [
      "1,dairy milk,20,95\n",
      "2,milky bar,10,10\n",
      "3,5 star,15,21\n",
      "4,kit kat,20,50\n"
     ]
    }
   ],
   "source": [
    "fd= open(\"inventory.txt\", 'r')\n",
    "products=fd.read().split('\\n')\n",
    "\n",
    "for product in products:\n",
    "    print(product)\n",
    "    \n",
    "fd.close()"
   ]
  },
  {
   "cell_type": "code",
   "execution_count": 9,
   "id": "a98c80cf-b6b2-4107-86de-038ce4ffa05c",
   "metadata": {},
   "outputs": [
    {
     "name": "stdout",
     "output_type": "stream",
     "text": [
      "swati,56565,sss.gamil.com,1,5,100,Thu Sep 19 17:32:33 2024\n",
      "ronak,23344,ronak@gamil.com,3,4,60,Thu Sep 19 17:33:56 2024\n",
      "manvi,67689,manvi@gmail.com,2,10,100,Thu Sep 19 17:34:53 2024\n",
      "sam,34564,sam@gmail.com,1,5,100,Thu Sep 19 17:52:46 2024\n",
      "\n"
     ]
    }
   ],
   "source": [
    "fd= open(\"sales.txt\", 'r')\n",
    "sale=fd.read().split('\\n')\n",
    "\n",
    "for tran in sale:\n",
    "    print(tran)\n",
    "    \n",
    "fd.close()"
   ]
  },
  {
   "cell_type": "markdown",
   "id": "77b979ae-6973-4ada-a4c0-79a2986626d4",
   "metadata": {},
   "source": [
    "## updating inventory"
   ]
  },
  {
   "cell_type": "code",
   "execution_count": 7,
   "id": "0dea6093-6586-447a-b0bb-531ce804db18",
   "metadata": {},
   "outputs": [
    {
     "name": "stdin",
     "output_type": "stream",
     "text": [
      "Enter Your Name:  sam\n",
      "Enter Your Phone No:  34564\n",
      "Enter Your email:  sam@gmail.com\n",
      "Enter Product Id:  1\n",
      "Enter Quantity:  5\n"
     ]
    },
    {
     "name": "stdout",
     "output_type": "stream",
     "text": [
      "------------------------------\n",
      "Product name     : dairy milk\n",
      "Price            : 20\n",
      "Quantity         : 5\n",
      "------------------------------\n",
      "Billing Amount   : 100\n",
      "------------------------------\n",
      "\n",
      "Thanks, Visit Again :)\n",
      "*************************\n",
      "Inventory Updated\n"
     ]
    }
   ],
   "source": [
    "import time\n",
    "\n",
    "ui_name =input(\"Enter Your Name: \")\n",
    "ui_phone =input(\"Enter Your Phone No: \")\n",
    "ui_email =input(\"Enter Your email: \")\n",
    "ui_product_id = input(\"Enter Product Id: \")\n",
    "ui_quantity = input(\"Enter Quantity: \")\n",
    "\n",
    "updated_product_details=[]\n",
    "\n",
    "for product in products:\n",
    "    product_details=product.split(',')\n",
    "    \n",
    "    if(ui_product_id==product_details[0]):\n",
    "\n",
    "        if int(product_details[3])>=int(ui_quantity):\n",
    "            print('-'*30)\n",
    "            print(\"Product name     :\",product_details[1])\n",
    "            print(\"Price            :\",product_details[2])\n",
    "            print(\"Quantity         :\",ui_quantity)\n",
    "            print('-'*30)\n",
    "            print(\"Billing Amount   :\", int(product_details[2])*int(ui_quantity))\n",
    "            print('-'*30)\n",
    "\n",
    "            sales=ui_name+','+ui_phone+','+ui_email+','+ui_product_id+','+ui_quantity+','+str(int(product_details[2])*int(ui_quantity))+','+time.ctime()+'\\n'\n",
    "            fd=open(\"sales.txt\", 'a')\n",
    "            fd.write(sales)\n",
    "            fd.close()\n",
    "\n",
    "            product_details[3]=str(int(product_details[3])-int(ui_quantity))\n",
    "            \n",
    "        elif (int(product_details[3])!=0):\n",
    "            print(\"Sorry, We do not have enough quantity\")\n",
    "            print(\"We currently have : \", product_details[3],\"quantity\")\n",
    "            print(\"Would you like to buy it\")\n",
    "            ans=input(\"Enter Y for Yes / N for No\")\n",
    "\n",
    "            if (ans=='y' or ans=='Y'):\n",
    "                print('-'*30)\n",
    "                print(\"Product name     :\",product_details[1])\n",
    "                print(\"Price            :\",product_details[2])\n",
    "                print(\"Quantity         :\",product_details[3])\n",
    "                print('-'*30)\n",
    "                print(\"Billing Amount   :\", int(product_details[2])*int(product_details[3]))\n",
    "                print('-'*30)\n",
    "                \n",
    "                sales=ui_name+','+ui_phone+','+ui_email+','+ui_product_id+','+product_details[3]+','+str(int(product_details[2])*int(product_details[3]))+','+time.ctime()+'\\n'\n",
    "                fd=open(\"sales.txt\", 'a')\n",
    "                fd.write(sales)\n",
    "                fd.close()\n",
    "\n",
    "                product_details[3]='0'\n",
    "\n",
    "            \n",
    "            else:\n",
    "                print(\"No problem\")\n",
    "        else:\n",
    "            print(\"OUT OF STOCK\")\n",
    "                \n",
    "                  \n",
    "    updated_product_details.append(product_details)\n",
    "print(\"\\nThanks, Visit Again :)\")     \n",
    "lst=[]\n",
    "for i in updated_product_details:\n",
    "    prod=i[0]+','+i[1]+','+i[2]+','+i[3]+'\\n'\n",
    "    lst.append(prod)\n",
    "    \n",
    "#removing last \\n\n",
    "lst[-1]=lst[-1][:-1]\n",
    "\n",
    "fd= open(\"inventory.txt\", 'w')\n",
    "\n",
    "for i in lst:\n",
    "    fd.write(i)\n",
    "    \n",
    "fd.close()\n",
    "print('*'*25)\n",
    "print(\"Inventory Updated\")"
   ]
  },
  {
   "cell_type": "code",
   "execution_count": null,
   "id": "822bc7c5-2b30-4c49-af47-f29e7bc0f2aa",
   "metadata": {},
   "outputs": [],
   "source": []
  }
 ],
 "metadata": {
  "kernelspec": {
   "display_name": "Python 3 (ipykernel)",
   "language": "python",
   "name": "python3"
  },
  "language_info": {
   "codemirror_mode": {
    "name": "ipython",
    "version": 3
   },
   "file_extension": ".py",
   "mimetype": "text/x-python",
   "name": "python",
   "nbconvert_exporter": "python",
   "pygments_lexer": "ipython3",
   "version": "3.12.4"
  }
 },
 "nbformat": 4,
 "nbformat_minor": 5
}
